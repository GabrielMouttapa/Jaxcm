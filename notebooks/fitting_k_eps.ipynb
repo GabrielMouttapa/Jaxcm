{
 "cells": [
  {
   "cell_type": "markdown",
   "metadata": {},
   "source": [
    "# Logbook"
   ]
  },
  {
   "cell_type": "markdown",
   "metadata": {},
   "source": [
    "# jld2 -> netcdf"
   ]
  },
  {
   "cell_type": "code",
   "execution_count": 15,
   "metadata": {},
   "outputs": [],
   "source": [
    "import h5py\n",
    "import os\n",
    "import json\n",
    "import numpy as np\n",
    "import xarray as xr\n",
    "from pathlib import Path\n",
    "from netCDF4 import Dataset\n",
    "\n",
    "\n",
    "def list_files_dir(directory):\n",
    "    dir_path = Path(directory)\n",
    "    files = [f for f in dir_path.rglob('*') if f.is_file() and f.name.endswith('.jld2')]\n",
    "    return files\n",
    "\n",
    "def p(name, obj):\n",
    "    print(name)\n",
    "    if isinstance(obj, h5py.Dataset):\n",
    "        print(obj[()])\n",
    "\n",
    "def jld2_to_nc(jld2_file_path, nc_file_path, json_file_path):\n",
    "    # ouverture des fichiers\n",
    "    jl = h5py.File(jld2_file_path, 'r')\n",
    "    if os.path.exists(nc_file_path):\n",
    "        os.remove(nc_file_path)\n",
    "    nc = Dataset(nc_file_path, 'w', format='NETCDF4')\n",
    "    params = {}\n",
    "\n",
    "    # time index/groups\n",
    "    t_group = jl['timeseries']['t']\n",
    "    i_t = list(t_group.keys())\n",
    "    i_t = [int(i) for i in i_t]\n",
    "    i_t.sort()\n",
    "    i_t = [str(i) for i in i_t]\n",
    "    \n",
    "    # dimensions\n",
    "    t = [t_group[i][()] for i in i_t]\n",
    "    zw = jl['grid']['zᵃᵃᶠ'][3:-3]\n",
    "    zr = jl['grid']['zᵃᵃᶜ'][3:-3]\n",
    "    nc.createDimension('t', len(i_t))\n",
    "    nc.createDimension('zw', len(zw))\n",
    "    nc.createDimension('zr', len(zr))\n",
    "    t_nc = nc.createVariable('t', np.float64, ('t',))\n",
    "    zw_nc = nc.createVariable('zw', np.float64, ('zw',))\n",
    "    zr_nc = nc.createVariable('zr', np.float64, ('zr',))\n",
    "    t_nc[:] = t\n",
    "    zw_nc[:] = zw\n",
    "    zr_nc[:] = zr\n",
    "    \n",
    "    # variables\n",
    "    Ri_nc = nc.createVariable('Ri', np.float64, ('t', 'zw'))\n",
    "    T_nc = nc.createVariable('T', np.float64, ('t', 'zr'))\n",
    "    TT_nc = nc.createVariable('TT', np.float64, ('t', 'zr'))\n",
    "    b_nc = nc.createVariable('b', np.float64, ('t', 'zr'))\n",
    "    bT_nc = nc.createVariable('bT', np.float64, ('t', 'zr'))\n",
    "    e_nc = nc.createVariable('e', np.float64, ('t', 'zr'))\n",
    "    p_nc = nc.createVariable('p', np.float64, ('t', 'zr'))\n",
    "    u_nc = nc.createVariable('u', np.float64, ('t', 'zr'))\n",
    "    uT_nc = nc.createVariable('uT', np.float64, ('t', 'zr'))\n",
    "    ub_nc = nc.createVariable('ub', np.float64, ('t', 'zr'))\n",
    "    uu_nc = nc.createVariable('uu', np.float64, ('t', 'zr'))\n",
    "    uv_nc = nc.createVariable('uv', np.float64, ('t', 'zr'))\n",
    "    v_nc = nc.createVariable('v', np.float64, ('t', 'zr'))\n",
    "    vT_nc = nc.createVariable('vT', np.float64, ('t', 'zr'))\n",
    "    vb_nc = nc.createVariable('vb', np.float64, ('t', 'zr'))\n",
    "    vv_nc = nc.createVariable('vv', np.float64, ('t', 'zr'))\n",
    "    wT_nc = nc.createVariable('wT', np.float64, ('t', 'zw'))\n",
    "    wb_nc = nc.createVariable('wb', np.float64, ('t', 'zw'))\n",
    "    wu_nc = nc.createVariable('wu', np.float64, ('t', 'zw'))\n",
    "    wv_nc = nc.createVariable('wv', np.float64, ('t', 'zw'))\n",
    "    ww_nc = nc.createVariable('ww', np.float64, ('t', 'zw'))\n",
    "    KdzT_nc = nc.createVariable('KdzT', np.float64, ('t', 'zw'))\n",
    "    mudzu_nc = nc.createVariable('mudzu', np.float64, ('t', 'zw'))\n",
    "    mudzv_nc = nc.createVariable('mudzv', np.float64, ('t', 'zw'))\n",
    "    mudzw_nc = nc.createVariable('mudzw', np.float64, ('t', 'zr'))\n",
    "    for var, var_group in jl['timeseries'].items():\n",
    "        match var:\n",
    "            case 't':\n",
    "                continue\n",
    "            case 'κₑ_∂z_T':\n",
    "                var = 'KdzT'\n",
    "            case 'νₑ_∂z_u':\n",
    "                var = 'mudzu'\n",
    "            case 'νₑ_∂z_v':\n",
    "                var = 'mudzv'\n",
    "            case 'νₑ_∂z_w':\n",
    "                var = 'mudzw'\n",
    "        for i, ii in enumerate(i_t):\n",
    "            ds = var_group[ii]\n",
    "            arr = ds[3:-3, 0, 0]\n",
    "            nc.variables[var][i, :] = arr\n",
    "    \n",
    "    # parameters\n",
    "    params['Lz'] = jl['grid']['Lz'][()]\n",
    "    params['Nz'] = jl['grid']['Nz'][()]\n",
    "    params['constant_salinity'] = jl['buoyancy']['model']['constant_salinity'][()]\n",
    "    params['gravitational_acceleration'] = jl['buoyancy']['model']['gravitational_acceleration'][()]\n",
    "    params['thermal_expansion'] = jl['buoyancy']['model']['equation_of_state']['thermal_expansion'][()]\n",
    "    params['haline_contraction'] = jl['buoyancy']['model']['equation_of_state']['haline_contraction'][()]\n",
    "    params['Ckappa'] = jl['closure']['Cκ']['T'][()]\n",
    "    params['Cmu'] = jl['closure']['Cν'][()]\n",
    "    params['Coriolis'] = jl['coriolis']['f'][()]\n",
    "    for name, ds in jl['parameters'].items():\n",
    "        name = name.replace('²', '2')\n",
    "        name = name.replace('θ', 'theta')\n",
    "        if name in ['LESbrary_jl_commit_SHA1', 'name']:\n",
    "            continue\n",
    "        params[name] = ds[()]\n",
    "    for k, v in params.items():\n",
    "        if k == 'thermocline_type':\n",
    "            params[k] = str(v)\n",
    "        else:\n",
    "            params[k] = float(v)\n",
    "\n",
    "    # fermeture des fichiers\n",
    "    jl.close()\n",
    "    nc.close()\n",
    "    jsonfile = open(json_file_path, 'w')\n",
    "    json.dump(params, jsonfile, indent=4)\n",
    "    jsonfile.close()\n",
    "    \n",
    "\n",
    "greg_path = os.path.join('..', 'obs', 'horizontally_averaged_LES_data')\n",
    "\n",
    "greg_files_paths = list_files_dir(greg_path)\n",
    "\n",
    "for jld2_file_path in greg_files_paths:\n",
    "    # print(jld2_file_path)\n",
    "    nc_file_path = jld2_file_path.with_suffix('.nc')\n",
    "    json_file_path = jld2_file_path.with_suffix('.json')\n",
    "    jld2_to_nc(jld2_file_path, nc_file_path, json_file_path)\n"
   ]
  },
  {
   "cell_type": "code",
   "execution_count": 100,
   "metadata": {},
   "outputs": [
    {
     "data": {
      "text/plain": [
       "array(9.96920997e+36)"
      ]
     },
     "execution_count": 100,
     "metadata": {},
     "output_type": "execute_result"
    }
   ],
   "source": [
    "ds = xr.open_dataset(nc_file_path)\n",
    "ds['dzw'].values\n"
   ]
  },
  {
   "cell_type": "code",
   "execution_count": 1,
   "metadata": {},
   "outputs": [
    {
     "name": "stdout",
     "output_type": "stream",
     "text": [
      "<function array at 0x123b0fe20>\n",
      "<class 'jax.Array'>\n"
     ]
    }
   ],
   "source": [
    "import jax.numpy as jnp\n",
    "print(jnp.array)\n",
    "print(jnp.ndarray)"
   ]
  },
  {
   "cell_type": "markdown",
   "metadata": {},
   "source": [
    "# Minimal optimisation model\n"
   ]
  },
  {
   "cell_type": "code",
   "execution_count": 81,
   "metadata": {},
   "outputs": [],
   "source": [
    "import equinox as eqx\n",
    "import jax.numpy as jnp\n",
    "from jax.scipy.optimize import minimize\n",
    "\n",
    "def closure1(u: jnp.array, clo_par: jnp.array):\n",
    "    a, b = clo_par[0], clo_par[1]\n",
    "    return a*u+b\n",
    "def closure2(u: jnp.array, clo_par: jnp.array):\n",
    "    a, b = clo_par[0], clo_par[1]\n",
    "    return a*u+b\n",
    "\n",
    "class Stade(eqx.Module):\n",
    "    nz: int\n",
    "    nt: int\n",
    "    u: jnp.array\n",
    "\n",
    "    def __init__(self, nz: int=10, nt:int=10, init_val: float=0.):\n",
    "        self.nz = nz\n",
    "        self.nt = nt\n",
    "        self.closure: str\n",
    "        self.u = jnp.full(nz, init_val)\n",
    "    \n",
    "    def __str__(self):\n",
    "        return self.u.__str__()\n",
    "\n",
    "    def model_step(self, clo_par: jnp.array):\n",
    "        \n",
    "        return eqx.tree_at(lambda t: t.u, self, closure(self.u, clo_par))\n",
    "\n",
    "    def model(self, clo_par: jnp.array):\n",
    "        for _ in range(self.nt):\n",
    "            self = self.model_step(clo_par)\n",
    "        return self\n",
    "    \n",
    "    def J(self, target):\n",
    "        return jnp.sum((self.u-target.u)**2)\n",
    "\n",
    "def gen_min_fun():\n",
    "    \"\"\" génère une fonction de minimisation\"\"\"\n",
    "\n",
    "def min_fun(x, target):\n",
    "    s = Stade()\n",
    "    s = s.model(x)\n",
    "    return s.J(target)\n"
   ]
  },
  {
   "cell_type": "code",
   "execution_count": 82,
   "metadata": {},
   "outputs": [
    {
     "name": "stdout",
     "output_type": "stream",
     "text": [
      "[-0.652435   5.2648573]\n",
      "OptimizeResults(x=Array([-0.652435 ,  5.2648573], dtype=float32), success=Array(False, dtype=bool), status=Array(3, dtype=int32, weak_type=True), fun=Array(5.684342e-13, dtype=float32), jac=Array([1.2319953e-05, 2.8453346e-06], dtype=float32), hess_inv=Array([[ 0.00462714, -0.01456416],\n",
      "       [-0.01456416,  0.17343678]], dtype=float32), nfev=Array(32, dtype=int32, weak_type=True), njev=Array(32, dtype=int32, weak_type=True), nit=Array(9, dtype=int32, weak_type=True))\n"
     ]
    }
   ],
   "source": [
    "clo_par0 = jnp.array([1., 1.])\n",
    "target = Stade(init_val=jnp.pi)\n",
    "\n",
    "res = minimize(min_fun, clo_par0, args=(target,), method='BFGS')\n",
    "\n",
    "print(res.x)\n",
    "print(res)"
   ]
  },
  {
   "cell_type": "code",
   "execution_count": 73,
   "metadata": {},
   "outputs": [
    {
     "name": "stdout",
     "output_type": "stream",
     "text": [
      "[0. 0. 0. 0. 0. 0. 0. 0. 0. 0.]\n",
      "[10. 10. 10. 10. 10. 10. 10. 10. 10. 10.]\n",
      "[0.]\n"
     ]
    }
   ],
   "source": [
    "s = Stade()\n",
    "print(s)\n",
    "clo_par = jnp.array([1, 1])\n",
    "s = s.model(clo_par)\n",
    "print(s)\n",
    "\n",
    "target = Stade(init_val=jnp.pi)\n",
    "\n",
    "res = minimize(fun, jnp.array([2.]), method='BFGS')\n",
    "\n",
    "print(res.x)"
   ]
  },
  {
   "cell_type": "markdown",
   "metadata": {},
   "source": [
    "# Testing Grids"
   ]
  },
  {
   "cell_type": "code",
   "execution_count": 3,
   "metadata": {},
   "outputs": [
    {
     "data": {
      "text/plain": [
       "Array([-9.5       , -8.5       , -7.5       , -6.5       , -5.5       ,\n",
       "       -4.5       , -3.4999998 , -2.4999998 , -1.4999999 , -0.49999994],      dtype=float32)"
      ]
     },
     "execution_count": 3,
     "metadata": {},
     "output_type": "execute_result"
    }
   ],
   "source": [
    "import sys\n",
    "sys.path.append('..')\n",
    "from src.grid import Grid\n",
    "import jax.numpy as jnp\n",
    "\n",
    "import xarray as xr\n",
    "a = jnp.arange(10)\n",
    "b = jnp.arange(11)\n",
    "ds = xr.Dataset({'zr': a, 'zw': b})\n",
    "\n",
    "g = Grid.linear(10, 10)\n",
    "g.zr\n"
   ]
  }
 ],
 "metadata": {
  "kernelspec": {
   "display_name": ".venv_cpu",
   "language": "python",
   "name": "python3"
  },
  "language_info": {
   "codemirror_mode": {
    "name": "ipython",
    "version": 3
   },
   "file_extension": ".py",
   "mimetype": "text/x-python",
   "name": "python",
   "nbconvert_exporter": "python",
   "pygments_lexer": "ipython3",
   "version": "3.12.4"
  }
 },
 "nbformat": 4,
 "nbformat_minor": 2
}
